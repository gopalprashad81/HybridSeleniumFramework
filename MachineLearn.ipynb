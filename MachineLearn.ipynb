{
  "nbformat": 4,
  "nbformat_minor": 0,
  "metadata": {
    "colab": {
      "provenance": [],
      "mount_file_id": "1E7273L3XkwL_ZFIdbEFIYryyicngiznz",
      "authorship_tag": "ABX9TyN1FKeKqt/O4O0uhK0ZxW9B",
      "include_colab_link": true
    },
    "kernelspec": {
      "name": "python3",
      "display_name": "Python 3"
    },
    "language_info": {
      "name": "python"
    }
  },
  "cells": [
    {
      "cell_type": "markdown",
      "metadata": {
        "id": "view-in-github",
        "colab_type": "text"
      },
      "source": [
        "<a href=\"https://colab.research.google.com/github/gopalprashad81/HybridSeleniumFramework/blob/main/MachineLearn.ipynb\" target=\"_parent\"><img src=\"https://colab.research.google.com/assets/colab-badge.svg\" alt=\"Open In Colab\"/></a>"
      ]
    },
    {
      "cell_type": "code",
      "execution_count": null,
      "metadata": {
        "id": "JLZfaA1bbCo2"
      },
      "outputs": [],
      "source": [
        "# ============================\n",
        "# Core Libraries\n",
        "# ============================\n",
        "import numpy as np\n",
        "import pandas as pd\n",
        "\n",
        "# ============================\n",
        "# Scikit-Learn (sklearn)\n",
        "# ============================\n",
        "from sklearn.model_selection import train_test_split, GridSearchCV\n",
        "from sklearn.metrics import accuracy_score, precision_score, recall_score, f1_score, roc_auc_score, confusion_matrix, classification_report\n",
        "from sklearn.preprocessing import StandardScaler, LabelEncoder\n",
        "\n",
        "# ============================\n",
        "# LightGBM\n",
        "# ============================\n",
        "import lightgbm as lgb\n",
        "\n",
        "# ============================\n",
        "# Visualization\n",
        "# ============================\n",
        "import matplotlib.pyplot as plt\n",
        "import seaborn as sns\n",
        "\n",
        "# ============================\n",
        "# Optional: Suppress Warnings\n",
        "# ============================\n",
        "import warnings\n",
        "warnings.filterwarnings(\"ignore\")"
      ]
    },
    {
      "cell_type": "code",
      "source": [
        "# lecture 3\n",
        "# rmse_train=metrics.root_mean_squared_error(y_true=train['y'],y_pred=old.predict(train.drop(columns\n",
        "from sklearn.metrics import median_absolute_error\n",
        "msdae_train = median_absolute_error(y_true=train['y'], y_pred=pls.predict(train.drop(columns=['y'])))\n",
        "msdae_test =median_absolbute_error(x_test, x_pred_test)                                                                                     )))"
      ],
      "metadata": {
        "id": "dKQQsQ7ekS-3"
      },
      "execution_count": null,
      "outputs": []
    },
    {
      "cell_type": "code",
      "source": [
        "import sklearn.linear_model"
      ],
      "metadata": {
        "id": "rht0wTvbrGkR"
      },
      "execution_count": 4,
      "outputs": []
    },
    {
      "cell_type": "code",
      "source": [
        "huber=  HuberRegressor().fit(X_train,y_train)\n",
        "y_pred_huber  = huber.predict(x_test)\n",
        "# compare fits on test sample\n",
        "rmse_ols =mean_squared_error(y_test,y_pred_ols)\n",
        "rmse_huber = mean_sqaured_error(y_test,y_pred_huber,squared=False)\n",
        "\n",
        "print(\"rmse_ols\", rmse_ols)\n",
        "print(\"rmse_huber\",rmse_huber)"
      ],
      "metadata": {
        "id": "7QVbqyHCrM61"
      },
      "execution_count": null,
      "outputs": []
    }
  ]
}