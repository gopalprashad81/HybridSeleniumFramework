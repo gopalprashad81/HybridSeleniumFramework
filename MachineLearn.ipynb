{
  "nbformat": 4,
  "nbformat_minor": 0,
  "metadata": {
    "colab": {
      "provenance": [],
      "mount_file_id": "1E7273L3XkwL_ZFIdbEFIYryyicngiznz",
      "authorship_tag": "ABX9TyPdezgyquMTpkj4s4dV5OSt",
      "include_colab_link": true
    },
    "kernelspec": {
      "name": "python3",
      "display_name": "Python 3"
    },
    "language_info": {
      "name": "python"
    }
  },
  "cells": [
    {
      "cell_type": "markdown",
      "metadata": {
        "id": "view-in-github",
        "colab_type": "text"
      },
      "source": [
        "<a href=\"https://colab.research.google.com/github/gopalprashad81/HybridSeleniumFramework/blob/main/MachineLearn.ipynb\" target=\"_parent\"><img src=\"https://colab.research.google.com/assets/colab-badge.svg\" alt=\"Open In Colab\"/></a>"
      ]
    },
    {
      "cell_type": "code",
      "execution_count": null,
      "metadata": {
        "id": "JLZfaA1bbCo2"
      },
      "outputs": [],
      "source": [
        "# ============================\n",
        "# Core Libraries\n",
        "# ============================\n",
        "import numpy as np\n",
        "import pandas as pd\n",
        "\n",
        "# ============================\n",
        "# Scikit-Learn (sklearn)\n",
        "# ============================\n",
        "from sklearn.model_selection import train_test_split, GridSearchCV\n",
        "from sklearn.metrics import accuracy_score, precision_score, recall_score, f1_score, roc_auc_score, confusion_matrix, classification_report\n",
        "from sklearn.preprocessing import StandardScaler, LabelEncoder\n",
        "\n",
        "# ============================\n",
        "# LightGBM\n",
        "# ============================\n",
        "import lightgbm as lgb\n",
        "\n",
        "# ============================\n",
        "# Visualization\n",
        "# ============================\n",
        "import matplotlib.pyplot as plt\n",
        "import seaborn as sns\n",
        "\n",
        "# ============================\n",
        "# Optional: Suppress Warnings\n",
        "# ============================\n",
        "import warnings\n",
        "warnings.filterwarnings(\"ignore\")\n",
        "\n",
        "\n"
      ]
    }
  ]
}